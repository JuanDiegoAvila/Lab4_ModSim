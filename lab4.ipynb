{
 "cells": [
  {
   "cell_type": "markdown",
   "metadata": {},
   "source": [
    "# Laboratorio 4"
   ]
  },
  {
   "cell_type": "markdown",
   "metadata": {},
   "source": [
    "## Ejercicio 1\n",
    "\n",
    "Simule el comportamiento de los enemigos en un videojuego simple usando métodos de Monte Carlo. Para ello\n",
    "considere lo siguiente\n",
    "1. Defina un conjunto de reglas para el comportamiento del enemigo, como patrones de movimiento y\n",
    "decisiones de ataque.\n",
    "2. Implemente una simulación de Monte Carlo que genere posibles resultados del comportamiento del\n",
    "enemigo durante una serie de turnos.\n",
    "3. Analice la distribución de los posibles resultados y determine la probabilidad de éxito o fracaso del jugador.\n",
    "4. Ajuste las reglas y los parámetros para explorar diferentes estrategias y resultados de los jugadores."
   ]
  },
  {
   "cell_type": "code",
   "execution_count": 106,
   "metadata": {},
   "outputs": [
    {
     "name": "stdout",
     "output_type": "stream",
     "text": [
      "Probabilidad de éxito: -0.83\n"
     ]
    }
   ],
   "source": [
    "import random\n",
    "\n",
    "# Definición de reglas del comportamiento del enemigo\n",
    "def enemy_move(position):\n",
    "    possible_moves = ['up', 'down', 'left', 'right']\n",
    "    return random.choice(possible_moves)\n",
    "\n",
    "def enemy_attack():\n",
    "    return random.random() < 0.3  # El enemigo tiene un 30% de probabilidad de atacar\n",
    "\n",
    "# Simulación de Monte Carlo\n",
    "def monte_carlo_simulation(turns, simulations):\n",
    "    success_count = 0\n",
    "\n",
    "    for _ in range(simulations):\n",
    "        player_position = (0, 0)\n",
    "        enemy_position = (4, 4)\n",
    "\n",
    "        for _ in range(turns):\n",
    "            # Movimiento del jugador (supongamos que siempre se mueve a la derecha)\n",
    "            player_position = (player_position[0], (player_position[1] + 1) % 5)\n",
    "\n",
    "            # Movimiento del enemigo\n",
    "            enemy_position = simulate_enemy_movement(enemy_position)\n",
    "\n",
    "            # Ataque del enemigo\n",
    "            if enemy_attack():\n",
    "                # Si el enemigo ataca, el jugador pierde\n",
    "                success_count -= 1\n",
    "                break\n",
    "\n",
    "            # Verificar si el jugador ganó\n",
    "            if player_position == enemy_position:\n",
    "                success_count += 1\n",
    "                break\n",
    "\n",
    "    success_probability = success_count / simulations\n",
    "    return success_probability\n",
    "\n",
    "def simulate_enemy_movement(position):\n",
    "    return position[0], (position[1] - 1) % 5  # Simulamos un movimiento hacia arriba\n",
    "\n",
    "# Configuración de la simulación\n",
    "turns = 5\n",
    "simulations = 10000\n",
    "\n",
    "success_probability = monte_carlo_simulation(turns, simulations)\n",
    "print(f\"Probabilidad de éxito: {success_probability:.2f}\")\n"
   ]
  },
  {
   "cell_type": "markdown",
   "metadata": {},
   "source": [
    "## Ejercicio 2\n",
    "Estime el precio de una opción call europea utilizando la fórmula de Black-Scholes a través de la simulación Monte\n",
    "Carlo. Para ello considere lo siguiente:\n",
    "1. Implemente la fórmula de Black-Scholes para calcular el precio teórico de la opción.\n",
    "2. Simule las trayectorias del precio de las acciones mediante el movimiento browniano geométrico.\n",
    "3. Calcule el pago de cada camino y promedielos para estimar el precio de la opción.\n"
   ]
  },
  {
   "cell_type": "code",
   "execution_count": 11,
   "metadata": {},
   "outputs": [
    {
     "name": "stdout",
     "output_type": "stream",
     "text": [
      "Black-Scholes Call Price: 10.45\n",
      "Monte Carlo Estimated Call Price: 10.39\n"
     ]
    }
   ],
   "source": [
    "import numpy as np\n",
    "import scipy.stats as stats\n",
    "\n",
    "# Black-Scholes Call Price Function\n",
    "def black_scholes_call_price(S_t, X, r, T, sigma):\n",
    "    d1 = (np.log(S_t / X) + (r + 0.5 * sigma ** 2) * T) / (sigma * np.sqrt(T))\n",
    "    d2 = d1 - sigma * np.sqrt(T)\n",
    "    C = S_t * stats.norm.cdf(d1) - X * np.exp(-r * T) * stats.norm.cdf(d2)\n",
    "    return C\n",
    "\n",
    "# Stock Path Simulation Function\n",
    "def simulate_stock_path(S_t, r, sigma, T, n_steps):\n",
    "    dt = T / n_steps\n",
    "    prices = [S_t]\n",
    "    for _ in range(n_steps):\n",
    "        Z = np.random.normal(0, 1)\n",
    "        S_next = prices[-1] * np.exp((r - 0.5 * sigma ** 2) * dt + sigma * np.sqrt(dt) * Z)\n",
    "        prices.append(S_next)\n",
    "    return prices\n",
    "\n",
    "# Monte Carlo Call Price Estimation Function\n",
    "def monte_carlo_call_price(S_t, X, r, T, sigma, n_simulations, n_steps):\n",
    "    payoffs = []\n",
    "    for _ in range(n_simulations):\n",
    "        path = simulate_stock_path(S_t, r, sigma, T, n_steps)\n",
    "        payoff = max(0, path[-1] - X)  # Opción call europea\n",
    "        payoffs.append(payoff)\n",
    "    return np.exp(-r * T) * np.mean(payoffs)\n",
    "\n",
    "\n",
    "S_t = 100\n",
    "X = 100 \n",
    "r = 0.05\n",
    "T = 1 \n",
    "sigma = 0.2\n",
    "n_simulations = 10000\n",
    "n_steps = 250\n",
    "\n",
    "bs_price = black_scholes_call_price(S_t, X, r, T, sigma)\n",
    "print(f\"Black-Scholes Call Price: {bs_price:.2f}\")\n",
    "\n",
    "mc_price = monte_carlo_call_price(S_t, X, r, T, sigma, n_simulations, n_steps)\n",
    "print(f\"Monte Carlo Estimated Call Price: {mc_price:.2f}\")\n"
   ]
  },
  {
   "cell_type": "markdown",
   "metadata": {},
   "source": [
    "## Ejercicio 3\n",
    "Estime la probabilidad y el impacto de una brecha de seguridad cibernética utilizando la simulación de Monte Carlo.\n",
    "Para ello considere lo siguiente:\n",
    "1. Defina las probabilidades de varios eventos de ataques cibernéticos (por ejemplo, phishing, malware).\n",
    "2. Asigne valores de impacto potencial a cada evento (p. ej., pérdida de datos, impacto financiero).\n",
    "3. Implemente una simulación de Monte Carlo para estimar el nivel de riesgo general.\n",
    "4. Analice el impacto de diferentes probabilidades de ataques cibernéticos en el riesgo general.\n"
   ]
  },
  {
   "cell_type": "code",
   "execution_count": 19,
   "metadata": {},
   "outputs": [],
   "source": [
    "import random\n",
    "\n",
    "def simulate_attack(prob_phishing, prob_malware):\n",
    "    loss = 0\n",
    "    if random.random() < prob_phishing:\n",
    "        loss += random.uniform(10000, 100000)\n",
    "    if random.random() < prob_malware:\n",
    "        loss += random.uniform(20000, 150000)\n",
    "    return loss\n",
    "\n",
    "def monte_carlo_simulation(n, prob_phishing, prob_malware):\n",
    "    total_loss = 0\n",
    "    for _ in range(n):\n",
    "        total_loss += simulate_attack(prob_phishing, prob_malware)\n",
    "    average_loss = total_loss / n\n",
    "    return average_loss\n"
   ]
  },
  {
   "cell_type": "code",
   "execution_count": 33,
   "metadata": {},
   "outputs": [
    {
     "name": "stdout",
     "output_type": "stream",
     "text": [
      "Pérdida promedio estimada: $5253.17\n"
     ]
    }
   ],
   "source": [
    "n_simulations = 100000\n",
    "average_loss = monte_carlo_simulation(n_simulations, 0.05, 0.03)\n",
    "print(f\"Pérdida promedio estimada: ${average_loss:.2f}\")"
   ]
  },
  {
   "cell_type": "markdown",
   "metadata": {},
   "source": [
    "## Ejercicio 4\n",
    "Considere un campo de su interés y defina un problema donde se pueda resolver usando Monte Carlo. Para ello\n",
    "considere decir lo siguiente\n",
    "1. Defina correctamente el problema, dejando claro las suposiciones y datos\n",
    "    - Un joven desea planificar un viaje mochilero de 10 días a través de Europa, visitando 3 ciudades diferentes. Tiene un presupuesto limitado y desea maximizar su experiencia.\n",
    "    Es necesario tomar en cuenta las siguientes variables:\n",
    "        - Transporte\n",
    "        - Alojamiento\n",
    "        - Comida\n",
    "        - Actividades\n",
    "2. Defina como Monte Carlo puede ayudarle a solucionar dicho problema\n",
    "    - Monte Carlo puede ayudar tomando diferentes decisiones aleatorias y sumando a los costos para poder decidir cuales opciones estan dentro del presupuesto y ofrecen las mejores experiencias. \n",
    "3. Escriba un script en su lenguaje de programación favorito solucionando el problema\n",
    "4. Analice correctamente los resultados, extrayendo cualquier insight que considere valioso"
   ]
  },
  {
   "cell_type": "code",
   "execution_count": null,
   "metadata": {},
   "outputs": [],
   "source": []
  },
  {
   "cell_type": "markdown",
   "metadata": {},
   "source": []
  },
  {
   "cell_type": "code",
   "execution_count": null,
   "metadata": {},
   "outputs": [],
   "source": []
  }
 ],
 "metadata": {
  "kernelspec": {
   "display_name": "Python 3",
   "language": "python",
   "name": "python3"
  },
  "language_info": {
   "codemirror_mode": {
    "name": "ipython",
    "version": 3
   },
   "file_extension": ".py",
   "mimetype": "text/x-python",
   "name": "python",
   "nbconvert_exporter": "python",
   "pygments_lexer": "ipython3",
   "version": "3.10.7"
  },
  "orig_nbformat": 4
 },
 "nbformat": 4,
 "nbformat_minor": 2
}
